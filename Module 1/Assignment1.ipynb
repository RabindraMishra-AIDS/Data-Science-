{
 "cells": [
  {
   "cell_type": "markdown",
   "metadata": {},
   "source": [
    "### Q.1)"
   ]
  },
  {
   "cell_type": "code",
   "execution_count": 1,
   "metadata": {},
   "outputs": [],
   "source": [
    "s='Rabindra'\n",
    "l=[1,2,3,True,'Hello']\n",
    "f=2.678\n",
    "t=(734974,4,'fhihgier')"
   ]
  },
  {
   "cell_type": "markdown",
   "metadata": {},
   "source": [
    "### Q.2)"
   ]
  },
  {
   "cell_type": "code",
   "execution_count": 2,
   "metadata": {},
   "outputs": [
    {
     "name": "stdout",
     "output_type": "stream",
     "text": [
      "<class 'str'> <class 'str'> <class 'list'> <class 'int'>\n"
     ]
    }
   ],
   "source": [
    "var1=''\n",
    "var2='[DS,ML,PYTHON]'\n",
    "var3=['DS','ML','Python']\n",
    "var4=1\n",
    "print(type(var1),type(var2),type(var3),type(var4))"
   ]
  },
  {
   "cell_type": "markdown",
   "metadata": {},
   "source": [
    "### Q.3)"
   ]
  },
  {
   "cell_type": "code",
   "execution_count": 3,
   "metadata": {},
   "outputs": [
    {
     "name": "stdout",
     "output_type": "stream",
     "text": [
      "0.6363636363636364\n",
      "7\n",
      "0\n",
      "1977326743\n"
     ]
    }
   ],
   "source": [
    "a,b=7,11\n",
    "print(a/b)\n",
    "print(a%b)\n",
    "print(a//b)\n",
    "print(a**b)"
   ]
  },
  {
   "cell_type": "markdown",
   "metadata": {},
   "source": [
    "### Q.4)"
   ]
  },
  {
   "cell_type": "code",
   "execution_count": 4,
   "metadata": {},
   "outputs": [
    {
     "name": "stdout",
     "output_type": "stream",
     "text": [
      "1\n",
      "<class 'int'>\n",
      "2\n",
      "<class 'int'>\n",
      "3\n",
      "<class 'int'>\n",
      "4\n",
      "<class 'int'>\n",
      "5.5857\n",
      "<class 'float'>\n",
      "6\n",
      "<class 'int'>\n",
      "7\n",
      "<class 'int'>\n",
      "True\n",
      "<class 'bool'>\n",
      "Rabindra\n",
      "<class 'str'>\n",
      "None\n",
      "<class 'NoneType'>\n"
     ]
    }
   ],
   "source": [
    "l=[1,2,3,4,5.5857,6,7,True,'Rabindra',None]\n",
    "for i in l:\n",
    "    print(i)\n",
    "    print(type(i))"
   ]
  },
  {
   "cell_type": "markdown",
   "metadata": {},
   "source": [
    "### Q.5)"
   ]
  },
  {
   "cell_type": "code",
   "execution_count": 5,
   "metadata": {},
   "outputs": [
    {
     "name": "stdout",
     "output_type": "stream",
     "text": [
      "4\n"
     ]
    }
   ],
   "source": [
    "a=int(input())\n",
    "b=int(input())\n",
    "c=0\n",
    "while (a%b==0):\n",
    "    c+=1\n",
    "    a=a/b\n",
    "print(c)"
   ]
  },
  {
   "cell_type": "markdown",
   "metadata": {},
   "source": [
    "### Q.6)"
   ]
  },
  {
   "cell_type": "code",
   "execution_count": 6,
   "metadata": {},
   "outputs": [
    {
     "name": "stdout",
     "output_type": "stream",
     "text": [
      "90 Is Divisible By 3\n",
      "33 Is Divisible By 3\n",
      "78 Is Divisible By 3\n",
      "99 Is Divisible By 3\n",
      "12 Is Divisible By 3\n",
      "45 Is Divisible By 3\n",
      "93 Is Divisible By 3\n",
      "4959 Is Divisible By 3\n",
      "40350 Is Divisible By 3\n",
      "56808 Is Divisible By 3\n",
      "49458 Is Divisible By 3\n",
      "4869423 Is Divisible By 3\n",
      "4395 Is Divisible By 3\n",
      "338508 Is Divisible By 3\n"
     ]
    }
   ],
   "source": [
    "l=[1,23,4,67,8,90,33,56,78,99,79,12,45,94,93,91,92,89,56,4959,40350,65806,56808,5484739,43085086,42386084,49458,4869423,4395,345068,338508]\n",
    "for i in l:\n",
    "    if i%3==0:\n",
    "        print(i,\"Is Divisible By 3\")\n"
   ]
  },
  {
   "cell_type": "markdown",
   "metadata": {},
   "source": [
    "### Q.7)"
   ]
  },
  {
   "cell_type": "code",
   "execution_count": 9,
   "metadata": {},
   "outputs": [
    {
     "name": "stdout",
     "output_type": "stream",
     "text": [
      "[3, 4, 78] (8, 57, 38, 46)\n"
     ]
    }
   ],
   "source": [
    "l=[349458,4,78]\n",
    "l[0]=3 #List i smutable that is it can be changed or modified\n",
    "t=(8,57,38,46) #Tuple cannot be modified \n",
    "# t[0]=3  (It will giv error)\n",
    "print(l,t)"
   ]
  },
  {
   "cell_type": "markdown",
   "metadata": {},
   "source": []
  }
 ],
 "metadata": {
  "kernelspec": {
   "display_name": "Python 3",
   "language": "python",
   "name": "python3"
  },
  "language_info": {
   "codemirror_mode": {
    "name": "ipython",
    "version": 3
   },
   "file_extension": ".py",
   "mimetype": "text/x-python",
   "name": "python",
   "nbconvert_exporter": "python",
   "pygments_lexer": "ipython3",
   "version": "3.12.4"
  }
 },
 "nbformat": 4,
 "nbformat_minor": 2
}
